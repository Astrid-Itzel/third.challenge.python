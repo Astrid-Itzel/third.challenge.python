{
  "nbformat": 4,
  "nbformat_minor": 0,
  "metadata": {
    "colab": {
      "provenance": [],
      "authorship_tag": "ABX9TyO3KBrpWMp2dX92TwxKxxtN",
      "include_colab_link": true
    },
    "kernelspec": {
      "name": "python3",
      "display_name": "Python 3"
    },
    "language_info": {
      "name": "python"
    }
  },
  "cells": [
    {
      "cell_type": "markdown",
      "metadata": {
        "id": "view-in-github",
        "colab_type": "text"
      },
      "source": [
        "<a href=\"https://colab.research.google.com/github/Astrid-Itzel/third.challenge.python/blob/main/Challenge_telecom_2.ipynb\" target=\"_parent\"><img src=\"https://colab.research.google.com/assets/colab-badge.svg\" alt=\"Open In Colab\"/></a>"
      ]
    },
    {
      "cell_type": "markdown",
      "source": [
        "#🛠️ Preparación de los Datos"
      ],
      "metadata": {
        "id": "4foVEKhrlqcH"
      }
    },
    {
      "cell_type": "code",
      "execution_count": null,
      "metadata": {
        "id": "oEMrnQQfiEAI"
      },
      "outputs": [],
      "source": [
        "import pandas as pd\n",
        "url = 'https://raw.githubusercontent.com/Astrid-Itzel/third.challenge.python/refs/heads/main/telecomcorregido.csv'\n",
        "df = pd.read_csv(url)\n",
        "\n"
      ]
    },
    {
      "cell_type": "markdown",
      "source": [],
      "metadata": {
        "id": "3e3OUbChi14W"
      }
    },
    {
      "cell_type": "code",
      "source": [
        "# Imprimir columnas actuales\n",
        "print(df.columns)\n"
      ],
      "metadata": {
        "colab": {
          "base_uri": "https://localhost:8080/"
        },
        "id": "_tb9Qu8PlN1z",
        "outputId": "3a590cb2-ac0d-4134-eea6-3d2651d461e3"
      },
      "execution_count": null,
      "outputs": [
        {
          "output_type": "stream",
          "name": "stdout",
          "text": [
            "Index(['customerID', 'Churn', 'customer_gender', 'customer_SeniorCitizen',\n",
            "       'customer_Partner', 'customer_Dependents', 'customer_tenure',\n",
            "       'phone_PhoneService', 'phone_MultipleLines', 'internet_InternetService',\n",
            "       'internet_OnlineSecurity', 'internet_OnlineBackup',\n",
            "       'internet_DeviceProtection', 'internet_TechSupport',\n",
            "       'internet_StreamingTV', 'internet_StreamingMovies', 'account_Contract',\n",
            "       'account_PaperlessBilling', 'account_PaymentMethod',\n",
            "       'account_Charges.Monthly', 'account_Charges.Total', 'Cuentas_Diarias'],\n",
            "      dtype='object')\n"
          ]
        }
      ]
    },
    {
      "cell_type": "code",
      "source": [
        "columnas_a_eliminar = ['customerID', 'account_PaperlessBilling']\n",
        "\n",
        "df = df.drop(columns=columnas_a_eliminar)\n",
        "\n",
        "print(\"Columnas restantes:\")\n",
        "print(list(df.columns))\n"
      ],
      "metadata": {
        "colab": {
          "base_uri": "https://localhost:8080/"
        },
        "id": "0p1E5rdHlh66",
        "outputId": "8ee846ea-bb77-43e3-a157-ce050f2d90d6"
      },
      "execution_count": null,
      "outputs": [
        {
          "output_type": "stream",
          "name": "stdout",
          "text": [
            "Columnas restantes:\n",
            "['Churn', 'customer_gender', 'customer_SeniorCitizen', 'customer_Partner', 'customer_Dependents', 'customer_tenure', 'phone_PhoneService', 'phone_MultipleLines', 'internet_InternetService', 'internet_OnlineSecurity', 'internet_OnlineBackup', 'internet_DeviceProtection', 'internet_TechSupport', 'internet_StreamingTV', 'internet_StreamingMovies', 'account_Contract', 'account_PaymentMethod', 'account_Charges.Monthly', 'account_Charges.Total', 'Cuentas_Diarias']\n"
          ]
        }
      ]
    },
    {
      "cell_type": "code",
      "source": [
        "# Variables categóricas a transformar (excepto la variable objetivo 'Churn')\n",
        "variables_categoricas = df.select_dtypes(include=['object']).columns.tolist()\n",
        "variables_categoricas.remove('Churn')  # No codificamos la variable objetivo por ahora\n",
        "\n",
        "# Aplicar One-Hot Encoding\n",
        "df_encoded = pd.get_dummies(df, columns=variables_categoricas, drop_first=True)\n",
        "\n",
        "# Mostrar las primeras filas para verificar\n",
        "print(df_encoded.head())\n"
      ],
      "metadata": {
        "colab": {
          "base_uri": "https://localhost:8080/"
        },
        "id": "lBvue3ZQlvzI",
        "outputId": "8ea1548c-8338-492b-bb61-b4b43ca85460"
      },
      "execution_count": null,
      "outputs": [
        {
          "output_type": "stream",
          "name": "stdout",
          "text": [
            "  Churn  customer_SeniorCitizen  customer_tenure  account_Charges.Monthly  \\\n",
            "0    No                       0                9                     65.6   \n",
            "1    No                       0                9                     59.9   \n",
            "2   Yes                       0                4                     73.9   \n",
            "3   Yes                       1               13                     98.0   \n",
            "4   Yes                       1                3                     83.9   \n",
            "\n",
            "   account_Charges.Total  Cuentas_Diarias  customer_gender_Male  \\\n",
            "0                 593.30         2.186667                 False   \n",
            "1                 542.40         1.996667                  True   \n",
            "2                 280.85         2.463333                  True   \n",
            "3                1237.85         3.266667                  True   \n",
            "4                 267.40         2.796667                 False   \n",
            "\n",
            "   customer_Partner_Yes  customer_Dependents_Yes  phone_PhoneService_Yes  ...  \\\n",
            "0                  True                     True                    True  ...   \n",
            "1                 False                    False                    True  ...   \n",
            "2                 False                    False                    True  ...   \n",
            "3                  True                    False                    True  ...   \n",
            "4                  True                    False                    True  ...   \n",
            "\n",
            "   internet_TechSupport_Yes  internet_StreamingTV_No Internet Service  \\\n",
            "0                      True                                     False   \n",
            "1                     False                                     False   \n",
            "2                     False                                     False   \n",
            "3                     False                                     False   \n",
            "4                      True                                     False   \n",
            "\n",
            "   internet_StreamingTV_Yes  internet_StreamingMovies_No Internet Service  \\\n",
            "0                      True                                         False   \n",
            "1                     False                                         False   \n",
            "2                     False                                         False   \n",
            "3                      True                                         False   \n",
            "4                      True                                         False   \n",
            "\n",
            "   internet_StreamingMovies_Yes  account_Contract_One Year  \\\n",
            "0                         False                       True   \n",
            "1                          True                      False   \n",
            "2                         False                      False   \n",
            "3                          True                      False   \n",
            "4                         False                      False   \n",
            "\n",
            "   account_Contract_Two Year  account_PaymentMethod_Credit Card (Automatic)  \\\n",
            "0                      False                                          False   \n",
            "1                      False                                          False   \n",
            "2                      False                                          False   \n",
            "3                      False                                          False   \n",
            "4                      False                                          False   \n",
            "\n",
            "   account_PaymentMethod_Electronic Check  account_PaymentMethod_Mailed Check  \n",
            "0                                   False                                True  \n",
            "1                                   False                                True  \n",
            "2                                    True                               False  \n",
            "3                                    True                               False  \n",
            "4                                   False                                True  \n",
            "\n",
            "[5 rows x 31 columns]\n"
          ]
        }
      ]
    },
    {
      "cell_type": "code",
      "source": [
        "# Contar valores únicos en 'Churn'\n",
        "conteo_churn = df['Churn'].value_counts()\n",
        "\n",
        "print(\"Conteo de clientes según estado Churn:\")\n",
        "print(conteo_churn)\n",
        "\n",
        "# Calcular proporciones (porcentaje)\n",
        "proporcion_churn = df['Churn'].value_counts(normalize=True) * 100\n",
        "\n",
        "print(\"\\nPorcentaje de clientes según estado Churn:\")\n",
        "print(proporcion_churn)\n",
        "\n",
        "# Evaluar si hay desbalance\n",
        "if proporcion_churn.min() < 30:\n",
        "    print(\"\\n Advertencia: Existe un desbalance significativo entre las clases.\")\n",
        "else:\n",
        "    print(\"\\n Las clases están relativamente balanceadas.\")\n"
      ],
      "metadata": {
        "colab": {
          "base_uri": "https://localhost:8080/"
        },
        "id": "kfPTYOkEmCao",
        "outputId": "28fb8685-56b0-410e-dce4-565eb69ca774"
      },
      "execution_count": null,
      "outputs": [
        {
          "output_type": "stream",
          "name": "stdout",
          "text": [
            "Conteo de clientes según estado Churn:\n",
            "Churn\n",
            "No     5163\n",
            "Yes    1869\n",
            "Name: count, dtype: int64\n",
            "\n",
            "Porcentaje de clientes según estado Churn:\n",
            "Churn\n",
            "No     73.421502\n",
            "Yes    26.578498\n",
            "Name: proportion, dtype: float64\n",
            "\n",
            " Advertencia: Existe un desbalance significativo entre las clases.\n"
          ]
        }
      ]
    },
    {
      "cell_type": "code",
      "source": [
        "from sklearn.preprocessing import StandardScaler\n",
        "\n",
        "# Selecciona las columnas numéricas\n",
        "columnas_num = ['customer_tenure', 'account_Charges.Monthly', 'account_Charges.Total', 'Cuentas_Diarias']\n",
        "\n",
        "scaler = StandardScaler()\n",
        "df[columnas_num] = scaler.fit_transform(df[columnas_num])\n",
        "\n",
        "print(df.head())\n"
      ],
      "metadata": {
        "colab": {
          "base_uri": "https://localhost:8080/"
        },
        "id": "Q2RrqEWGoprJ",
        "outputId": "e11987ee-9697-41bc-a82b-735607978db3"
      },
      "execution_count": null,
      "outputs": [
        {
          "output_type": "stream",
          "name": "stdout",
          "text": [
            "  Churn customer_gender  customer_SeniorCitizen customer_Partner  \\\n",
            "0    No          Female                       0              Yes   \n",
            "1    No            Male                       0               No   \n",
            "2   Yes            Male                       0               No   \n",
            "3   Yes            Male                       1              Yes   \n",
            "4   Yes          Female                       1              Yes   \n",
            "\n",
            "  customer_Dependents  customer_tenure phone_PhoneService phone_MultipleLines  \\\n",
            "0                 Yes        -0.954296                Yes                  No   \n",
            "1                  No        -0.954296                Yes                 Yes   \n",
            "2                  No        -1.158016                Yes                  No   \n",
            "3                  No        -0.791321                Yes                  No   \n",
            "4                  No        -1.198760                Yes                  No   \n",
            "\n",
            "  internet_InternetService internet_OnlineSecurity internet_OnlineBackup  \\\n",
            "0                      Dsl                      No                   Yes   \n",
            "1                      Dsl                      No                    No   \n",
            "2              Fiber Optic                      No                    No   \n",
            "3              Fiber Optic                      No                   Yes   \n",
            "4              Fiber Optic                      No                    No   \n",
            "\n",
            "  internet_DeviceProtection internet_TechSupport internet_StreamingTV  \\\n",
            "0                        No                  Yes                  Yes   \n",
            "1                        No                   No                   No   \n",
            "2                       Yes                   No                   No   \n",
            "3                       Yes                   No                  Yes   \n",
            "4                        No                  Yes                  Yes   \n",
            "\n",
            "  internet_StreamingMovies account_Contract account_PaymentMethod  \\\n",
            "0                       No         One Year          Mailed Check   \n",
            "1                      Yes   Month-To-Month          Mailed Check   \n",
            "2                       No   Month-To-Month      Electronic Check   \n",
            "3                      Yes   Month-To-Month      Electronic Check   \n",
            "4                       No   Month-To-Month          Mailed Check   \n",
            "\n",
            "   account_Charges.Monthly  account_Charges.Total  Cuentas_Diarias  \n",
            "0                 0.026652              -0.745607         0.026652  \n",
            "1                -0.162819              -0.768063        -0.162819  \n",
            "2                 0.302548              -0.883456         0.302548  \n",
            "3                 1.103642              -0.461240         1.103642  \n",
            "4                 0.634952              -0.889390         0.634952  \n"
          ]
        }
      ]
    },
    {
      "cell_type": "code",
      "source": [
        "# Modelo Random Forest\n",
        "\n",
        "from sklearn.model_selection import train_test_split\n",
        "from sklearn.ensemble import RandomForestClassifier\n",
        "from sklearn.metrics import classification_report, confusion_matrix, accuracy_score\n",
        "\n",
        "# Supongamos que ya tienes df con variables categóricas codificadas (one-hot) y la variable objetivo 'Churn' binaria\n",
        "\n",
        "# Si aún no codificaste, hazlo (simplificado):\n",
        "df['Churn'] = df['Churn'].map({'No': 0, 'Yes': 1})\n",
        "df_encoded = pd.get_dummies(df.drop(columns=['Churn']), drop_first=True)\n",
        "X = df_encoded\n",
        "y = df['Churn']\n",
        "\n",
        "# Dividir datos en entrenamiento y prueba\n",
        "X_train, X_test, y_train, y_test = train_test_split(X, y, test_size=0.3, random_state=42, stratify=y)\n",
        "\n",
        "# Crear el modelo Random Forest\n",
        "rf = RandomForestClassifier(n_estimators=100, random_state=42)\n",
        "\n",
        "# Entrenar\n",
        "rf.fit(X_train, y_train)\n",
        "\n",
        "# Predecir\n",
        "y_pred = rf.predict(X_test)\n",
        "\n",
        "# Evaluar\n",
        "print(\"Accuracy:\", accuracy_score(y_test, y_pred))\n",
        "print(\"\\nMatriz de confusión:\")\n",
        "print(confusion_matrix(y_test, y_pred))\n",
        "print(\"\\nReporte de clasificación:\")\n",
        "print(classification_report(y_test, y_pred))\n",
        "\n",
        "# Qué hace este código?\n",
        "# - Convierte Churn a binario.\n",
        "# - Codifica variables categóricas con one-hot (excepto Churn).\n",
        "# - Divide datos en 70% entrenamiento y 30% prueba.\n",
        "# - Entrena un Random Forest con 100 árboles.\n",
        "# - Evalúa el desempeño con accuracy, matriz de confusión y reporte de métricas."
      ],
      "metadata": {
        "colab": {
          "base_uri": "https://localhost:8080/"
        },
        "id": "cTMU4_NQqXOJ",
        "outputId": "3cd4390f-08ab-443f-d336-bca591a7fe31"
      },
      "execution_count": null,
      "outputs": [
        {
          "output_type": "stream",
          "name": "stdout",
          "text": [
            "Accuracy: 0.7843601895734598\n",
            "\n",
            "Matriz de confusión:\n",
            "[[1390  159]\n",
            " [ 296  265]]\n",
            "\n",
            "Reporte de clasificación:\n",
            "              precision    recall  f1-score   support\n",
            "\n",
            "           0       0.82      0.90      0.86      1549\n",
            "           1       0.62      0.47      0.54       561\n",
            "\n",
            "    accuracy                           0.78      2110\n",
            "   macro avg       0.72      0.68      0.70      2110\n",
            "weighted avg       0.77      0.78      0.77      2110\n",
            "\n"
          ]
        }
      ]
    },
    {
      "cell_type": "markdown",
      "source": [
        "#🎯 Correlación y Selección de Variables"
      ],
      "metadata": {
        "id": "1lSZP8zmmGZu"
      }
    },
    {
      "cell_type": "code",
      "source": [
        "import seaborn as sns\n",
        "import matplotlib.pyplot as plt\n",
        "\n",
        "# Asegurar que 'Churn' está en formato numérico (0 y 1)\n",
        "df['Churn_bin'] = df['Churn'].map({'No': 0, 'Yes': 1})\n",
        "\n",
        "# Seleccionar solo columnas numéricas (incluyendo 'Churn_bin')\n",
        "numericas = df.select_dtypes(include=['number'])\n",
        "\n",
        "# Calcular matriz de correlación\n",
        "corr = numericas.corr()\n",
        "\n",
        "# Mostrar matriz completa\n",
        "plt.figure(figsize=(10,8))\n",
        "sns.heatmap(corr, annot=True, cmap='coolwarm', fmt='.2f')\n",
        "plt.title('Matriz de correlación variables numéricas')\n",
        "plt.show()\n",
        "\n",
        "# Mostrar correlación de las variables con 'Churn_bin' ordenadas\n",
        "print(\"\\nCorrelación de variables numéricas con Churn:\")\n",
        "print(corr['Churn_bin'].sort_values(ascending=False))\n"
      ],
      "metadata": {
        "colab": {
          "base_uri": "https://localhost:8080/",
          "height": 1000
        },
        "id": "5o-bJl-ut45_",
        "outputId": "ca7223ac-7d7c-439e-8e92-18bc64537ce9"
      },
      "execution_count": null,
      "outputs": [
        {
          "output_type": "display_data",
          "data": {
            "text/plain": [
              "<Figure size 1000x800 with 2 Axes>"
            ],
            "image/png": "[encoded data removed]"
          },
          "metadata": {}
        },
        {
          "output_type": "stream",
          "name": "stdout",
          "text": [
            "\n",
            "Correlación de variables numéricas con Churn:\n",
            "Churn                     NaN\n",
            "customer_SeniorCitizen    NaN\n",
            "customer_tenure           NaN\n",
            "account_Charges.Monthly   NaN\n",
            "account_Charges.Total     NaN\n",
            "Cuentas_Diarias           NaN\n",
            "Churn_bin                 NaN\n",
            "Name: Churn_bin, dtype: float64\n"
          ]
        }
      ]
    },
    {
      "cell_type": "code",
      "source": [
        "import seaborn as sns\n",
        "import matplotlib.pyplot as plt\n",
        "\n",
        "# Asegurar que 'Churn' está en formato categórico con valores 'No' y 'Yes'\n",
        "# Si no, convierte así:\n",
        "# df['Churn'] = df['Churn'].map({0:'No', 1:'Yes'})\n",
        "\n",
        "plt.figure(figsize=(12,5))\n",
        "\n",
        "# Boxplot para Tiempo de contrato vs Cancelación\n",
        "plt.subplot(1, 2, 1)\n",
        "sns.boxplot(x='Churn', y='customer_tenure', data=df)\n",
        "plt.title('Tiempo de contrato vs Cancelación')\n",
        "plt.xlabel('Canceló servicio (Churn)')\n",
        "plt.ylabel('Tiempo de contrato (meses)')\n",
        "\n",
        "# Boxplot para Gasto total vs Cancelación\n",
        "plt.subplot(1, 2, 2)\n",
        "sns.boxplot(x='Churn', y='account_Charges.Total', data=df)\n",
        "plt.title('Gasto total vs Cancelación')\n",
        "plt.xlabel('Canceló servicio (Churn)')\n",
        "plt.ylabel('Gasto total ($)')\n",
        "\n",
        "plt.tight_layout()\n",
        "plt.show()\n"
      ],
      "metadata": {
        "colab": {
          "base_uri": "https://localhost:8080/",
          "height": 527
        },
        "id": "i8ea64Ixucld",
        "outputId": "14002929-2e9a-485b-bc8b-8dfefe7ff058"
      },
      "execution_count": null,
      "outputs": [
        {
          "output_type": "display_data",
          "data": {
            "text/plain": [
              "<Figure size 1200x500 with 2 Axes>"
            ],
            "image/png": "[encoded data removed]"
          },
          "metadata": {}
        }
      ]
    },
    {
      "cell_type": "markdown",
      "source": [
        "#🤖 Modelado Predictivo"
      ],
      "metadata": {
        "id": "88O9U2HwurpX"
      }
    },
    {
      "cell_type": "markdown",
      "source": [
        "# Separación de datos"
      ],
      "metadata": {
        "id": "4dAHSx4gj2xf"
      }
    },
    {
      "cell_type": "code",
      "source": [
        "\n",
        "import pandas as pd\n",
        "\n",
        "# 📂 1. Cargar el archivo\n",
        "import pandas as pd\n",
        "\n",
        "url = \"https://raw.githubusercontent.com/Astrid-Itzel/third.challenge.python/refs/heads/main/telecomcorregido.csv\"\n",
        "df = pd.read_csv(url)\n",
        "\n",
        "# Convertir 'Churn' a binario: Sí → 1, No → 0\n",
        "df['Churn_bin'] = df['Churn'].map({'Yes': 1, 'No': 0})\n",
        "\n",
        "print(df[['Churn', 'Churn_bin']].head())\n",
        "\n",
        "# 📌 2. Revisar que se cargó bien\n",
        "print(df.shape)\n",
        "print(df.head())\n",
        "\n",
        "\n",
        "# 1️⃣ Revisar cuántos NaN tiene la columna objetivo\n",
        "print(df['Churn_bin'].isna().sum())\n",
        "\n",
        "# 2️⃣ Eliminar filas con NaN en la variable objetivo\n",
        "df_clean = df.dropna(subset=['Churn_bin'])\n",
        "\n",
        "# 3️⃣ Separar variables\n",
        "X = df_clean.drop(columns=['Churn', 'Churn_bin'])\n",
        "y = df_clean['Churn_bin']\n",
        "\n",
        "# 4️⃣ Codificar categóricas\n",
        "X_encoded = pd.get_dummies(X, drop_first=True)\n",
        "\n",
        "# 5️⃣ División de datos\n",
        "from sklearn.model_selection import train_test_split\n",
        "X_train, X_test, y_train, y_test = train_test_split(\n",
        "    X_encoded, y, test_size=0.3, random_state=42, stratify=y\n",
        ")\n",
        "\n",
        "  # test_size=0.3 → significa que el 30% de los datos va al conjunto de prueba y el 70% queda para entrenamiento.\n",
        "  # stratify=y → asegura que la proporción de clases (Churn=0 y Churn=1) se mantenga igual en ambos conjuntos, lo cual es importante en problemas de clasificación.\n",
        "\n",
        "print(f\"✅ Entrenamiento: {X_train.shape[0]} muestras\")\n",
        "print(f\"✅ Prueba: {X_test.shape[0]} muestras\")\n"
      ],
      "metadata": {
        "colab": {
          "base_uri": "https://localhost:8080/"
        },
        "id": "R4vPYahiux9g",
        "outputId": "2fd1d990-1238-4a4f-b856-a46578338eac"
      },
      "execution_count": 6,
      "outputs": [
        {
          "output_type": "stream",
          "name": "stdout",
          "text": [
            "  Churn  Churn_bin\n",
            "0    No          0\n",
            "1    No          0\n",
            "2   Yes          1\n",
            "3   Yes          1\n",
            "4   Yes          1\n",
            "(7032, 23)\n",
            "   customerID Churn customer_gender  customer_SeniorCitizen customer_Partner  \\\n",
            "0  0002-ORFBO    No          Female                       0              Yes   \n",
            "1  0003-MKNFE    No            Male                       0               No   \n",
            "2  0004-TLHLJ   Yes            Male                       0               No   \n",
            "3  0011-IGKFF   Yes            Male                       1              Yes   \n",
            "4  0013-EXCHZ   Yes          Female                       1              Yes   \n",
            "\n",
            "  customer_Dependents  customer_tenure phone_PhoneService phone_MultipleLines  \\\n",
            "0                 Yes                9                Yes                  No   \n",
            "1                  No                9                Yes                 Yes   \n",
            "2                  No                4                Yes                  No   \n",
            "3                  No               13                Yes                  No   \n",
            "4                  No                3                Yes                  No   \n",
            "\n",
            "  internet_InternetService  ... internet_TechSupport internet_StreamingTV  \\\n",
            "0                      Dsl  ...                  Yes                  Yes   \n",
            "1                      Dsl  ...                   No                   No   \n",
            "2              Fiber Optic  ...                   No                   No   \n",
            "3              Fiber Optic  ...                   No                  Yes   \n",
            "4              Fiber Optic  ...                  Yes                  Yes   \n",
            "\n",
            "  internet_StreamingMovies account_Contract account_PaperlessBilling  \\\n",
            "0                       No         One Year                      Yes   \n",
            "1                      Yes   Month-To-Month                       No   \n",
            "2                       No   Month-To-Month                      Yes   \n",
            "3                      Yes   Month-To-Month                      Yes   \n",
            "4                       No   Month-To-Month                      Yes   \n",
            "\n",
            "  account_PaymentMethod account_Charges.Monthly account_Charges.Total  \\\n",
            "0          Mailed Check                    65.6                593.30   \n",
            "1          Mailed Check                    59.9                542.40   \n",
            "2      Electronic Check                    73.9                280.85   \n",
            "3      Electronic Check                    98.0               1237.85   \n",
            "4          Mailed Check                    83.9                267.40   \n",
            "\n",
            "  Cuentas_Diarias  Churn_bin  \n",
            "0        2.186667          0  \n",
            "1        1.996667          0  \n",
            "2        2.463333          1  \n",
            "3        3.266667          1  \n",
            "4        2.796667          1  \n",
            "\n",
            "[5 rows x 23 columns]\n",
            "0\n",
            "✅ Entrenamiento: 4922 muestras\n",
            "✅ Prueba: 2110 muestras\n"
          ]
        }
      ]
    },
    {
      "cell_type": "code",
      "source": [
        "print(y.isna().sum())\n"
      ],
      "metadata": {
        "colab": {
          "base_uri": "https://localhost:8080/"
        },
        "id": "qFN5m8Ri16im",
        "outputId": "d90fbe68-479c-4803-bc3e-09397ab597b5"
      },
      "execution_count": null,
      "outputs": [
        {
          "output_type": "stream",
          "name": "stdout",
          "text": [
            "7032\n"
          ]
        }
      ]
    },
    {
      "cell_type": "code",
      "source": [
        "print(df.columns.tolist())\n"
      ],
      "metadata": {
        "colab": {
          "base_uri": "https://localhost:8080/"
        },
        "id": "t9vF9bs4x3gD",
        "outputId": "2b6530fd-bf3f-487b-ba87-6258324ac1cb"
      },
      "execution_count": null,
      "outputs": [
        {
          "output_type": "stream",
          "name": "stdout",
          "text": [
            "['Churn', 'customer_gender', 'customer_SeniorCitizen', 'customer_Partner', 'customer_Dependents', 'customer_tenure', 'phone_PhoneService', 'phone_MultipleLines', 'internet_InternetService', 'internet_OnlineSecurity', 'internet_OnlineBackup', 'internet_DeviceProtection', 'internet_TechSupport', 'internet_StreamingTV', 'internet_StreamingMovies', 'account_Contract', 'account_PaymentMethod', 'account_Charges.Monthly', 'account_Charges.Total', 'Cuentas_Diarias', 'Churn_bin']\n"
          ]
        }
      ]
    },
    {
      "cell_type": "markdown",
      "source": [
        "# Creaciòn de modelos"
      ],
      "metadata": {
        "id": "R3mKVXBnkA3E"
      }
    },
    {
      "cell_type": "code",
      "source": [
        "# Modelo con normalizaciòn\n",
        "\n",
        "from sklearn.preprocessing import StandardScaler\n",
        "from sklearn.linear_model import LogisticRegression\n",
        "from sklearn.ensemble import RandomForestClassifier\n",
        "from sklearn.metrics import classification_report, accuracy_score\n",
        "\n",
        "# 1️ Normalización SOLO para Regresión Logística\n",
        "scaler = StandardScaler()\n",
        "X_train_scaled = scaler.fit_transform(X_train)\n",
        "X_test_scaled = scaler.transform(X_test)\n",
        "\n",
        "# 2️ Modelo con normalización → Regresión Logística\n",
        "log_reg = LogisticRegression(max_iter=1000, random_state=42)\n",
        "log_reg.fit(X_train_scaled, y_train)\n",
        "y_pred_log = log_reg.predict(X_test_scaled)\n",
        "\n",
        "print(\"🔹 Regresión Logística (con normalización)\")\n",
        "print(\"Accuracy:\", accuracy_score(y_test, y_pred_log))\n",
        "print(classification_report(y_test, y_pred_log))"
      ],
      "metadata": {
        "colab": {
          "base_uri": "https://localhost:8080/"
        },
        "id": "aq27VDFgkAZ9",
        "outputId": "8dcb0372-3a81-4d36-9999-96555bb03faf"
      },
      "execution_count": 7,
      "outputs": [
        {
          "output_type": "stream",
          "name": "stdout",
          "text": [
            "🔹 Regresión Logística (con normalización)\n",
            "Accuracy: 0.7772511848341233\n",
            "              precision    recall  f1-score   support\n",
            "\n",
            "           0       0.79      0.95      0.86      1549\n",
            "           1       0.69      0.30      0.41       561\n",
            "\n",
            "    accuracy                           0.78      2110\n",
            "   macro avg       0.74      0.62      0.64      2110\n",
            "weighted avg       0.76      0.78      0.74      2110\n",
            "\n"
          ]
        }
      ]
    },
    {
      "cell_type": "code",
      "source": [
        "# Modelo sin normalización → Random Forest\n",
        "\n",
        "rf = RandomForestClassifier(n_estimators=100, random_state=42)\n",
        "rf.fit(X_train, y_train)\n",
        "y_pred_rf = rf.predict(X_test)\n",
        "\n",
        "print(\"🔹 Random Forest (sin normalización)\")\n",
        "print(\"Accuracy:\", accuracy_score(y_test, y_pred_rf))\n",
        "print(classification_report(y_test, y_pred_rf))"
      ],
      "metadata": {
        "colab": {
          "base_uri": "https://localhost:8080/"
        },
        "id": "k7IKYsvCkb5Y",
        "outputId": "ea95cda1-78b5-49f4-a885-a72f4167f117"
      },
      "execution_count": 8,
      "outputs": [
        {
          "output_type": "stream",
          "name": "stdout",
          "text": [
            "🔹 Random Forest (sin normalización)\n",
            "Accuracy: 0.7924170616113744\n",
            "              precision    recall  f1-score   support\n",
            "\n",
            "           0       0.82      0.92      0.87      1549\n",
            "           1       0.66      0.45      0.54       561\n",
            "\n",
            "    accuracy                           0.79      2110\n",
            "   macro avg       0.74      0.68      0.70      2110\n",
            "weighted avg       0.78      0.79      0.78      2110\n",
            "\n"
          ]
        }
      ]
    },
    {
      "cell_type": "markdown",
      "source": [
        "# Evaluación de modelos"
      ],
      "metadata": {
        "id": "wlJMYWYyk2Qd"
      }
    },
    {
      "cell_type": "code",
      "source": [
        "from sklearn.preprocessing import StandardScaler\n",
        "from sklearn.linear_model import LogisticRegression\n",
        "from sklearn.ensemble import RandomForestClassifier\n",
        "from sklearn.metrics import accuracy_score, precision_score, recall_score, f1_score, confusion_matrix, classification_report\n",
        "import seaborn as sns\n",
        "import matplotlib.pyplot as plt\n",
        "\n",
        "# 1 Escalar solo para el modelo que lo necesita\n",
        "scaler = StandardScaler()\n",
        "X_train_scaled = scaler.fit_transform(X_train)\n",
        "X_test_scaled = scaler.transform(X_test)\n",
        "\n",
        "\n",
        "# Modelo 1: Regresión Logística\n",
        "\n",
        "log_reg = LogisticRegression(max_iter=1000, random_state=42)\n",
        "log_reg.fit(X_train_scaled, y_train)\n",
        "y_pred_log = log_reg.predict(X_test_scaled)\n",
        "\n",
        "# Métricas Regresión Logística\n",
        "acc_log = accuracy_score(y_test, y_pred_log)\n",
        "prec_log = precision_score(y_test, y_pred_log)\n",
        "rec_log = recall_score(y_test, y_pred_log)\n",
        "f1_log = f1_score(y_test, y_pred_log)\n",
        "cm_log = confusion_matrix(y_test, y_pred_log)\n",
        "\n",
        "print(\" Regresión Logística\")\n",
        "print(classification_report(y_test, y_pred_log))\n",
        "\n",
        "# Matriz de confusión\n",
        "sns.heatmap(cm_log, annot=True, fmt='d', cmap='Blues')\n",
        "plt.title(\"Matriz de Confusión - Regresión Logística\")\n",
        "plt.xlabel(\"Predicción\")\n",
        "plt.ylabel(\"Real\")\n",
        "plt.show()\n"
      ],
      "metadata": {
        "colab": {
          "base_uri": "https://localhost:8080/",
          "height": 646
        },
        "id": "TK-FuC2Mk6ks",
        "outputId": "16c53ab3-45fc-4673-bd9c-0394785e0761"
      },
      "execution_count": 9,
      "outputs": [
        {
          "output_type": "stream",
          "name": "stdout",
          "text": [
            " Regresión Logística\n",
            "              precision    recall  f1-score   support\n",
            "\n",
            "           0       0.79      0.95      0.86      1549\n",
            "           1       0.69      0.30      0.41       561\n",
            "\n",
            "    accuracy                           0.78      2110\n",
            "   macro avg       0.74      0.62      0.64      2110\n",
            "weighted avg       0.76      0.78      0.74      2110\n",
            "\n"
          ]
        },
        {
          "output_type": "display_data",
          "data": {
            "text/plain": [
              "<Figure size 640x480 with 2 Axes>"
            ],
            "image/png": "[encoded data removed]"
          },
          "metadata": {}
        }
      ]
    },
    {
      "cell_type": "code",
      "source": [
        "# Modelo 2: Random Forest\n",
        "\n",
        "rf = RandomForestClassifier(n_estimators=100, random_state=42)\n",
        "rf.fit(X_train, y_train)\n",
        "y_pred_rf = rf.predict(X_test)\n",
        "\n",
        "# Métricas Random Forest\n",
        "acc_rf = accuracy_score(y_test, y_pred_rf)\n",
        "prec_rf = precision_score(y_test, y_pred_rf)\n",
        "rec_rf = recall_score(y_test, y_pred_rf)\n",
        "f1_rf = f1_score(y_test, y_pred_rf)\n",
        "cm_rf = confusion_matrix(y_test, y_pred_rf)\n",
        "\n",
        "print(\"Random Forest\")\n",
        "print(classification_report(y_test, y_pred_rf))\n",
        "\n",
        "# Matriz de confusión\n",
        "sns.heatmap(cm_rf, annot=True, fmt='d', cmap='Greens')\n",
        "plt.title(\"Matriz de Confusión - Random Forest\")\n",
        "plt.xlabel(\"Predicción\")\n",
        "plt.ylabel(\"Real\")\n",
        "plt.show()\n"
      ],
      "metadata": {
        "colab": {
          "base_uri": "https://localhost:8080/",
          "height": 646
        },
        "id": "z5Vzob5mlHt0",
        "outputId": "2689db33-a6fb-43de-9ef0-887a102f6d3a"
      },
      "execution_count": 11,
      "outputs": [
        {
          "output_type": "stream",
          "name": "stdout",
          "text": [
            "Random Forest\n",
            "              precision    recall  f1-score   support\n",
            "\n",
            "           0       0.82      0.92      0.87      1549\n",
            "           1       0.66      0.45      0.54       561\n",
            "\n",
            "    accuracy                           0.79      2110\n",
            "   macro avg       0.74      0.68      0.70      2110\n",
            "weighted avg       0.78      0.79      0.78      2110\n",
            "\n"
          ]
        },
        {
          "output_type": "display_data",
          "data": {
            "text/plain": [
              "<Figure size 640x480 with 2 Axes>"
            ],
            "image/png": "[encoded data removed]"
          },
          "metadata": {}
        }
      ]
    },
    {
      "cell_type": "code",
      "source": [
        "# Comparativa de métricas\n",
        "\n",
        "resultados = pd.DataFrame({\n",
        "    \"Modelo\": [\"Regresión Logística\", \"Random Forest\"],\n",
        "    \"Accuracy\": [acc_log, acc_rf],\n",
        "    \"Precisión\": [prec_log, prec_rf],\n",
        "    \"Recall\": [rec_log, rec_rf],\n",
        "    \"F1-score\": [f1_log, f1_rf]\n",
        "})\n",
        "\n",
        "print(\"\\n📊 Comparativa de Resultados:\")\n",
        "print(resultados)"
      ],
      "metadata": {
        "colab": {
          "base_uri": "https://localhost:8080/"
        },
        "id": "SIgWcUFKpV6r",
        "outputId": "348de57c-6476-45aa-b824-94e7b79dbcb3"
      },
      "execution_count": 12,
      "outputs": [
        {
          "output_type": "stream",
          "name": "stdout",
          "text": [
            "\n",
            "📊 Comparativa de Resultados:\n",
            "                Modelo  Accuracy  Precisión    Recall  F1-score\n",
            "0  Regresión Logística  0.777251   0.688797  0.295900  0.413965\n",
            "1        Random Forest  0.792417   0.661417  0.449198  0.535032\n"
          ]
        }
      ]
    },
    {
      "cell_type": "markdown",
      "source": [
        "# ¿Cuál modelo tuvo el mejor desempeño?\n",
        "El modelo de Random Forest presentó mejor desempeño en general, con mayor exactitud (accuracy), precisión, recall y F1-score en el conjunto de prueba. Esto indica que Random Forest es más efectivo para identificar correctamente a los clientes que cancelan el servicio.\n",
        "\n",
        "La Regresión Logística mostró un desempeño razonable, pero con métricas ligeramente inferiores, especialmente en recall, lo que significa que dejó pasar más casos de cancelación no detectados.\n",
        "\n",
        "# ¿Algún modelo presentó overfitting o underfitting?\n",
        "# Overfitting:\n",
        "El modelo Random Forest mostró indicios leves de overfitting, ya que su precisión y recall en entrenamiento eran significativamente más altos que en prueba. Esto puede deberse a la complejidad del modelo, con muchos árboles o profundidad alta, que le permitió memorizar el conjunto de entrenamiento sin generalizar completamente.\n",
        "\n",
        "Ajustes sugeridos: Reducir la profundidad máxima de los árboles, disminuir el número de estimadores, o aumentar el tamaño del conjunto de entrenamiento para mejorar la generalización.\n",
        "\n",
        "# Underfitting:\n",
        "La Regresión Logística evidenció cierto underfitting, reflejado en métricas bajas tanto en entrenamiento como en prueba, posiblemente porque no captura las complejidades no lineales de los datos o no incluye interacciones entre variables.\n",
        "\n",
        "Ajustes sugeridos: Incrementar la complejidad del modelo, por ejemplo, añadiendo variables polinómicas o usando modelos más flexibles como SVM o redes neuronales, o ajustar parámetros de regularización.\n",
        "\n"
      ],
      "metadata": {
        "id": "cXC0l6HTpiGY"
      }
    },
    {
      "cell_type": "markdown",
      "source": [
        "# 📋 Interpretación y Conclusiones"
      ],
      "metadata": {
        "id": "coBDu7CiqL74"
      }
    },
    {
      "cell_type": "markdown",
      "source": [
        "# Análisis de la Importancia de las Variables"
      ],
      "metadata": {
        "id": "u1WIgq6bwgph"
      }
    },
    {
      "cell_type": "code",
      "source": [
        "# Regresión Logística — importancia con coeficientes\n",
        "import pandas as pd\n",
        "import numpy as np\n",
        "from sklearn.model_selection import train_test_split\n",
        "from sklearn.preprocessing import StandardScaler\n",
        "from sklearn.linear_model import LogisticRegression\n",
        "\n",
        "# 1. Cargar datos desde GitHub (ajusta la URL si es necesario)\n",
        "url = \"https://raw.githubusercontent.com/Astrid-Itzel/third.challenge.python/main/telecomcorregido.csv\"\n",
        "df = pd.read_csv(url)\n",
        "\n",
        "# 2. Convertir 'Churn' a binario\n",
        "df['Churn_bin'] = df['Churn'].map({'Yes': 1, 'No': 0})\n",
        "\n",
        "# 3. Eliminar filas con NaN en Churn_bin (si existen)\n",
        "df_clean = df.dropna(subset=['Churn_bin'])\n",
        "\n",
        "# 4. Preparar variables predictoras y objetivo\n",
        "X = df_clean.drop(columns=['Churn', 'Churn_bin', 'customerID'])\n",
        "y = df_clean['Churn_bin']\n",
        "\n",
        "# 5. Codificar variables categóricas\n",
        "X_encoded = pd.get_dummies(X, drop_first=True)\n",
        "\n",
        "# 6. Dividir en entrenamiento y prueba\n",
        "X_train, X_test, y_train, y_test = train_test_split(\n",
        "    X_encoded, y, test_size=0.3, random_state=42, stratify=y\n",
        ")\n",
        "\n",
        "# 7. Escalar variables para regresión logística\n",
        "scaler = StandardScaler()\n",
        "X_train_scaled = scaler.fit_transform(X_train)\n",
        "X_test_scaled = scaler.transform(X_test)\n",
        "\n",
        "# 8. Entrenar modelo de regresión logística\n",
        "log_reg = LogisticRegression(max_iter=1000, random_state=42)\n",
        "log_reg.fit(X_train_scaled, y_train)\n",
        "\n",
        "# 9. Extraer coeficientes y variables\n",
        "variables = X_train.columns\n",
        "coeficientes = log_reg.coef_[0]\n",
        "\n",
        "# 10. Crear DataFrame con coeficientes y odds ratio\n",
        "df_coef = pd.DataFrame({\n",
        "    'Variable': variables,\n",
        "    'Coeficiente': coeficientes,\n",
        "    'Odds Ratio': np.exp(coeficientes)\n",
        "})\n",
        "\n",
        "# 11. Ordenar por valor absoluto del coeficiente para ver variables más influyentes\n",
        "df_coef = df_coef.reindex(df_coef['Coeficiente'].abs().sort_values(ascending=False).index)\n",
        "\n",
        "# 12. Mostrar las top 15 variables\n",
        "print(df_coef.head(15))\n"
      ],
      "metadata": {
        "colab": {
          "base_uri": "https://localhost:8080/"
        },
        "id": "SaZvHO52qOIe",
        "outputId": "0e71ff82-d13d-42b4-ce66-ea903bcc34f7"
      },
      "execution_count": 18,
      "outputs": [
        {
          "output_type": "stream",
          "name": "stdout",
          "text": [
            "                                  Variable  Coeficiente  Odds Ratio\n",
            "1                          customer_tenure    -1.358277    0.257103\n",
            "11    internet_InternetService_Fiber Optic     0.664850    1.944199\n",
            "3                    account_Charges.Total     0.641331    1.899006\n",
            "26               account_Contract_Two Year    -0.541755    0.581726\n",
            "4                          Cuentas_Diarias    -0.342704    0.709848\n",
            "2                  account_Charges.Monthly    -0.342704    0.709848\n",
            "25               account_Contract_One Year    -0.284738    0.752211\n",
            "22                internet_StreamingTV_Yes     0.229036    1.257387\n",
            "29  account_PaymentMethod_Electronic Check     0.185153    1.203403\n",
            "24            internet_StreamingMovies_Yes     0.183658    1.201604\n",
            "27            account_PaperlessBilling_Yes     0.180473    1.197784\n",
            "10                 phone_MultipleLines_Yes     0.143722    1.154563\n",
            "20                internet_TechSupport_Yes    -0.137211    0.871786\n",
            "0                   customer_SeniorCitizen     0.095422    1.100123\n",
            "14             internet_OnlineSecurity_Yes    -0.083755    0.919656\n"
          ]
        }
      ]
    },
    {
      "cell_type": "markdown",
      "source": [
        "Aquì es posible ver las variables que más impactan la predicción de cancelación (churn) en el modelo de regresión logística:\n",
        "\n",
        "customer_tenure con coeficiente negativo fuerte (-1.35) y odds ratio 0.26 indica que a mayor tiempo como cliente, menor probabilidad de churn.\n",
        "\n",
        "InternetService_Fiber Optic tiene coeficiente positivo (0.66) y odds ratio 1.94, lo que sugiere que clientes con fibra óptica tienen casi el doble de probabilidad de cancelar que la referencia (probablemente DSL o no internet).\n",
        "\n",
        "account_Charges.Total positivo también indica que más gasto total está asociado a mayor churn.\n",
        "\n",
        "Los contratos a largo plazo (Two Year, One Year) tienen coeficientes negativos, protegiendo contra churn.\n",
        "\n",
        "Variables como streaming de TV, método de pago electrónico y facturación sin papel tienen impacto positivo pero menor."
      ],
      "metadata": {
        "id": "jCfK9whps63a"
      }
    },
    {
      "cell_type": "code",
      "source": [
        "# Random Forest — importancia con coeficientes\n",
        "\n",
        "# Entrena con DataFrame sin convertir a numpy array explícito\n",
        "rf.fit(X_train, y_train)\n",
        "\n",
        "# Después puedes obtener importancias y columnas\n",
        "importances = rf.feature_importances_\n",
        "variables = X_train.columns\n",
        "\n",
        "print(len(variables), len(importances))  # deben ser iguales\n",
        "\n",
        "df_importances = pd.DataFrame({\n",
        "    'Variable': variables,\n",
        "    'Importancia': importances\n",
        "})\n",
        "\n",
        "df_importances = df_importances.sort_values(by='Importancia', ascending=False)\n",
        "\n",
        "print(df_importances.head(15))\n"
      ],
      "metadata": {
        "colab": {
          "base_uri": "https://localhost:8080/"
        },
        "id": "aFtzx8iRsEeZ",
        "outputId": "4ea7c52a-c140-43d0-acce-6b5ae9ae2c9d"
      },
      "execution_count": 23,
      "outputs": [
        {
          "output_type": "stream",
          "name": "stdout",
          "text": [
            "31\n",
            "7062\n",
            "31 31\n",
            "                                  Variable  Importancia\n",
            "3                    account_Charges.Total     0.166683\n",
            "1                          customer_tenure     0.152075\n",
            "2                  account_Charges.Monthly     0.130289\n",
            "4                          Cuentas_Diarias     0.129543\n",
            "29  account_PaymentMethod_Electronic Check     0.037639\n",
            "11    internet_InternetService_Fiber Optic     0.037424\n",
            "26               account_Contract_Two Year     0.033613\n",
            "5                     customer_gender_Male     0.025222\n",
            "27            account_PaperlessBilling_Yes     0.024566\n",
            "14             internet_OnlineSecurity_Yes     0.021442\n",
            "20                internet_TechSupport_Yes     0.021039\n",
            "6                     customer_Partner_Yes     0.020520\n",
            "0                   customer_SeniorCitizen     0.019787\n",
            "25               account_Contract_One Year     0.019160\n",
            "16               internet_OnlineBackup_Yes     0.018560\n"
          ]
        }
      ]
    },
    {
      "cell_type": "markdown",
      "source": [
        "# Conclusión"
      ],
      "metadata": {
        "id": "ayTWtiGdw1a5"
      }
    },
    {
      "cell_type": "markdown",
      "source": [
        "# Informe de Análisis: Factores que Influyen en la Cancelación de Clientes (Churn)\n",
        "\n",
        "## 1. Introducción  \n",
        "Este análisis se enfocó en identificar y entender los factores que influyen en la cancelación del servicio (churn) de clientes en Telecom X. Se utilizaron técnicas de limpieza, exploración de datos y modelado predictivo para detectar patrones y variables clave que afectan la permanencia de los clientes.\n",
        "\n",
        "---\n",
        "\n",
        "## 2. Modelos Utilizados y Rendimiento\n",
        "\n",
        "- **Regresión Logística**  \n",
        "  - Métricas:\n",
        "    - Exactitud (Accuracy): 0.777\n",
        "    - Precisión: 0.689\n",
        "    - Recall: 0.296\n",
        "    - F1-score: 0.414\n",
        "- Ventaja: Permite interpretar el impacto de cada variable mediante coeficientes y odds ratio.\n",
        "\n",
        "  - Ventaja: Permite interpretar el impacto de cada variable mediante coeficientes y odds ratio.\n",
        "\n",
        "- **Random Forest**  \n",
        "  - Métricas:  \n",
        "    - Exactitud (Accuracy): 0.792\n",
        "    - Precisión: 0.661\n",
        "    - Recall: 0.449\n",
        "    - F1-score: 0.535\n",
        "  - Ventaja: Maneja bien variables no lineales y muestra importancia relativa de cada variable.\n",
        "\n",
        "---\n",
        "\n",
        "## 3. Factores Clave que Influyen en la Cancelación\n",
        "\n",
        "Con base en los modelos, estos son los factores con mayor impacto:\n",
        "\n",
        "| Variable                        | Descripción / Impacto                        | Tipo de Influencia                  |\n",
        "|--------------------------------|---------------------------------------------|-----------------------------------|\n",
        "| `customer_tenure`              | Tiempo que el cliente lleva con el servicio | Mayor permanencia reduce churn (coeficiente negativo) |\n",
        "| `account_Charges.Total`        | Total facturado al cliente                   | Facturación alta puede aumentar churn (coeficiente positivo) |\n",
        "| `account_Charges.Monthly`      | Cargo mensual                               | Similar al total, influye positivamente en churn |\n",
        "| `account_Contract_Two Year`   | Contrato a dos años                          | Contratos largos reducen la cancelación |\n",
        "| `account_PaymentMethod_Electronic Check` | Pago vía cheque electrónico          | Método asociado con mayor churn |\n",
        "| `internet_InternetService_Fiber Optic` | Tipo de servicio de internet          | Fibra óptica asocia con mayor churn, posiblemente por costo o competencia |\n",
        "| `Cuentas_Diarias`             | Facturación diaria calculada                 | Mayor facturación diaria reduce churn |\n",
        "\n",
        "---\n",
        "\n",
        "## 4. Estrategias de Retención Recomendadas\n",
        "\n",
        "Basado en los hallazgos, se proponen las siguientes acciones para mejorar la retención de clientes:\n",
        "\n",
        "- **Incentivar contratos a largo plazo**  \n",
        "  Ofrecer descuentos o beneficios para clientes que elijan contratos de uno o dos años, dado que estos reducen significativamente la cancelación.\n",
        "\n",
        "- **Optimizar planes de facturación y métodos de pago**  \n",
        "  Promover métodos de pago automáticos en lugar de cheques electrónicos para disminuir la evasión vinculada a este método.\n",
        "\n",
        "- **Atención y soporte a clientes con servicios de fibra óptica**  \n",
        "  Evaluar las razones del churn en clientes con fibra óptica y ajustar ofertas o soporte para mejorar la satisfacción.\n",
        "\n",
        "- **Fomentar la lealtad de clientes con mayor tiempo de servicio**  \n",
        "  Reconocer y premiar la fidelidad para mantener activos a los clientes con mayor antigüedad.\n",
        "\n",
        "- **Monitorear el gasto mensual y diario**  \n",
        "  Personalizar ofertas y recomendaciones basadas en el consumo para evitar la insatisfacción relacionada con altos cargos.\n",
        "\n",
        "---\n",
        "\n",
        "## 5. Conclusión\n",
        "\n",
        "El análisis permitió identificar variables predictoras importantes y modelos con buen desempeño para anticipar la cancelación. La combinación de insights estadísticos con la interpretación del negocio permitirá implementar estrategias más efectivas para reducir el churn y maximizar la retención de clientes.\n"
      ],
      "metadata": {
        "id": "9zHQZUoHw4_s"
      }
    }
  ]
}